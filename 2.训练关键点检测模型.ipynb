{
 "cells": [
  {
   "cell_type": "markdown",
   "id": "4f30b1ab-f463-44b6-a60f-bc4f59d992d8",
   "metadata": {},
   "source": [
    "# 训练关键点检测模型"
   ]
  },
  {
   "cell_type": "markdown",
   "id": "2b860948-9978-4b4f-8f1f-93efe458ceee",
   "metadata": {},
   "source": [
    "## 训练`yolov8s-pose`关键点检测模型"
   ]
  },
  {
   "cell_type": "code",
   "execution_count": 1,
   "id": "1956139d-b4ac-4d99-8006-3c11dae64467",
   "metadata": {},
   "outputs": [
    {
     "name": "stdout",
     "output_type": "stream",
     "text": [
      "^C\n"
     ]
    }
   ],
   "source": [
    "# yolov8s-pose模型，迁移学习微调\n",
    "!yolo pose train data=acupoint.yaml model=yolov8s-pose.pt pretrained=True project=hand name=s_pretrain epochs=50 batch=16 device=0\n"
   ]
  },
  {
   "cell_type": "code",
   "execution_count": 11,
   "id": "67d3af11-f7c2-4e8f-95f6-26526d857e76",
   "metadata": {},
   "outputs": [],
   "source": [
    "# yolov8s-pose模型，随机初始权重，从头重新学习\n",
    "!yolo pose train data=acupoint.yaml model=yolov8s-pose.pt project=acupoint name=s_scratch epochs=50 batch=16 device=0\n"
   ]
  },
  {
   "cell_type": "markdown",
   "id": "760e061f-15e7-4b40-8e3f-1c116fb65f54",
   "metadata": {},
   "source": [
    "## 训练`yolov8m-pose`关键点检测模型"
   ]
  },
  {
   "cell_type": "code",
   "execution_count": 12,
   "id": "738ab7fc-12aa-4b28-b9fa-fbd6f09d1740",
   "metadata": {},
   "outputs": [],
   "source": [
    "# yolov8m-pose模型，迁移学习微调\n",
    "!yolo pose train data=acupoint.yaml model=yolov8m-pose.pt pretrained=True project=acupoint name=m_pretrain epochs=50 batch=16 device=0\n"
   ]
  },
  {
   "cell_type": "code",
   "execution_count": 13,
   "id": "213871ab-b816-4bed-9b51-26c8956c0c79",
   "metadata": {},
   "outputs": [],
   "source": [
    "# yolov8m-pose模型，随机初始权重，从头重新学习\n",
    "!yolo pose train data=acupoint.yaml model=yolov8m-pose.pt project=acupoint name=m_scratch epochs=50 batch=16 device=0\n"
   ]
  },
  {
   "cell_type": "markdown",
   "id": "8214d1a7-8693-4816-8363-aae3d652fc9a",
   "metadata": {},
   "source": [
    "## 训练`yolov8l-pose`关键点检测模型"
   ]
  },
  {
   "cell_type": "code",
   "execution_count": 14,
   "id": "3549894f-b615-4666-979e-e2bec57d030f",
   "metadata": {},
   "outputs": [],
   "source": [
    "# yolov8l-pose模型，迁移学习微调\n",
    "!yolo pose train data=acupoint.yaml model=yolov8l-pose.pt pretrained=True project=acupoint name=l_pretrain epochs=50 batch=4 device=0\n"
   ]
  },
  {
   "cell_type": "code",
   "execution_count": 15,
   "id": "bf7f1266-0953-43b3-92b5-529562c11310",
   "metadata": {},
   "outputs": [],
   "source": [
    "# yolov8l-pose模型，随机初始权重，从头重新学习\n",
    "!yolo pose train data=acupoint.yaml model=yolov8l-pose.pt project=acupoint name=l_scratch epochs=50 batch=4 device=0\n"
   ]
  },
  {
   "cell_type": "markdown",
   "id": "2e0850c6-019d-421e-861e-55ae1260992e",
   "metadata": {},
   "source": [
    "## 训练`yolov8x-pose`关键点检测模型"
   ]
  },
  {
   "cell_type": "code",
   "execution_count": 16,
   "id": "66dd7ca3-d8b6-4ff8-8018-dd9209a369e5",
   "metadata": {},
   "outputs": [],
   "source": [
    "# yolov8x-pose模型，迁移学习微调\n",
    "!yolo pose train data=acupoint.yaml model=yolov8x-pose.pt pretrained=True project=hand name=x_pretrain epochs=50 batch=4 device=0\n"
   ]
  },
  {
   "cell_type": "code",
   "execution_count": 17,
   "id": "03b95745-401e-4f47-9352-db052d2761ae",
   "metadata": {},
   "outputs": [],
   "source": [
    "# yolov8x-pose模型，随机初始权重，从头重新学习\n",
    "!yolo pose train data=acupoint.yaml model=yolov8x-pose.pt project=acupoint name=x_scratch epochs=50 batch=4 device=0\n"
   ]
  },
  {
   "cell_type": "markdown",
   "id": "809e8aab-1cd1-49b5-8aec-f1fc57b80c5e",
   "metadata": {},
   "source": [
    "## 训练`yolov8x-pose-p6`关键点检测模型"
   ]
  },
  {
   "cell_type": "code",
   "execution_count": 18,
   "id": "fcd68d9e-51f5-4ea5-96df-217541840cd2",
   "metadata": {},
   "outputs": [],
   "source": [
    "# yolov8x-pose-p6模型，迁移学习微调\n",
    "!yolo pose train data=acupoint.yaml model=yolov8x-pose-p6.pt pretrained=True imgsz=1280 project=palm name=x_p6_pretrain epochs=50 batch=2 device=0\n"
   ]
  },
  {
   "cell_type": "code",
   "execution_count": 19,
   "id": "fe1263fe-3ea6-4de1-91b6-0de9cfbf066f",
   "metadata": {},
   "outputs": [],
   "source": [
    "# yolov8x-pose-p6模型，随机初始权重，从头重新学习\n",
    "!yolo pose train data=acupoint.yaml model=yolov8x-pose-p6.pt imgsz=1280 project=acupoint name=x_p6_scratch epochs=50 batch=2 device=0\n"
   ]
  }
 ],
 "metadata": {
  "kernelspec": {
   "display_name": "Python 3 (ipykernel)",
   "language": "python",
   "name": "python3"
  },
  "language_info": {
   "codemirror_mode": {
    "name": "ipython",
    "version": 3
   },
   "file_extension": ".py",
   "mimetype": "text/x-python",
   "name": "python",
   "nbconvert_exporter": "python",
   "pygments_lexer": "ipython3",
   "version": "3.8.16"
  }
 },
 "nbformat": 4,
 "nbformat_minor": 5
}
