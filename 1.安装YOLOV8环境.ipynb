{
 "cells": [
  {
   "cell_type": "markdown",
   "id": "5d31775d-9858-422f-b3e7-b333df407c8b",
   "metadata": {},
   "source": [
    "# 安装YOLOV8"
   ]
  },
  {
   "cell_type": "markdown",
   "id": "8ba9d553-9064-492d-811b-812ff409d8e1",
   "metadata": {},
   "source": [
    "## 安装YOLOV8"
   ]
  },
  {
   "cell_type": "code",
   "execution_count": 3,
   "id": "e3afb786-1343-46fd-82c9-ff2d716c79e0",
   "metadata": {},
   "outputs": [],
   "source": [
    "!pip install ultralytics --upgrade -i https://pypi.tuna.tsinghua.edu.cn/simple"
   ]
  },
  {
   "cell_type": "markdown",
   "id": "9823667e-5c29-4e9f-aae3-8f0dea3f5105",
   "metadata": {},
   "source": [
    "## 验证安装成功"
   ]
  },
  {
   "cell_type": "code",
   "execution_count": null,
   "id": "1de9f7c1-d2bb-4f54-9eb3-2602b806085a",
   "metadata": {},
   "outputs": [],
   "source": [
    "import ultralytics\n",
    "ultralytics.checks()"
   ]
  }
 ],
 "metadata": {
  "kernelspec": {
   "display_name": "Python 3 (ipykernel)",
   "language": "python",
   "name": "python3"
  },
  "language_info": {
   "codemirror_mode": {
    "name": "ipython",
    "version": 3
   },
   "file_extension": ".py",
   "mimetype": "text/x-python",
   "name": "python",
   "nbconvert_exporter": "python",
   "pygments_lexer": "ipython3",
   "version": "3.8.16"
  }
 },
 "nbformat": 4,
 "nbformat_minor": 5
}
